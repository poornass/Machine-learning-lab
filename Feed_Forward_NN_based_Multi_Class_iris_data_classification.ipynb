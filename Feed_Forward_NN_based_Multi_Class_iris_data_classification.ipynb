{
  "nbformat": 4,
  "nbformat_minor": 0,
  "metadata": {
    "colab": {
      "name": "Feed Forward NN based Multi Class iris data classification.ipynb",
      "provenance": [],
      "collapsed_sections": [],
      "include_colab_link": true
    },
    "kernelspec": {
      "name": "python3",
      "display_name": "Python 3"
    },
    "accelerator": "GPU"
  },
  "cells": [
    {
      "cell_type": "markdown",
      "metadata": {
        "id": "view-in-github",
        "colab_type": "text"
      },
      "source": [
        "<a href=\"https://colab.research.google.com/github/poornass/Machine-learning-lab/blob/main/Feed_Forward_NN_based_Multi_Class_iris_data_classification.ipynb\" target=\"_parent\"><img src=\"https://colab.research.google.com/assets/colab-badge.svg\" alt=\"Open In Colab\"/></a>"
      ]
    },
    {
      "cell_type": "markdown",
      "metadata": {
        "id": "oZQDXGDgxAHw"
      },
      "source": [
        "#**Iris data Classification using Feed Forward NN**\n",
        " \n",
        "\n",
        "\n",
        "\n",
        "\n",
        "---\n",
        "\n"
      ]
    },
    {
      "cell_type": "markdown",
      "metadata": {
        "id": "v-nrzsphyNQg"
      },
      "source": [
        "#**Outline**\n",
        "\n",
        "1. Load data.\n",
        "2. Define model for multi-class classification.\n",
        "3. Compile model.\n",
        "4. Fit model.\n",
        "5. Evaluate model.\n",
        "6. Save the model"
      ]
    },
    {
      "cell_type": "markdown",
      "metadata": {
        "id": "AYxDp-YaUEEC"
      },
      "source": [
        "# Loading dataset\n",
        "\n",
        "Load iris dataset from the python package sklearn."
      ]
    },
    {
      "cell_type": "code",
      "metadata": {
        "id": "Y62le--iNQ_g"
      },
      "source": [
        "import sklearn.datasets\n",
        "import numpy as np\n"
      ],
      "execution_count": 1,
      "outputs": []
    },
    {
      "cell_type": "code",
      "metadata": {
        "id": "ClBCeOpjPvw3"
      },
      "source": [
        "iris = sklearn.datasets.load_iris()"
      ],
      "execution_count": 2,
      "outputs": []
    },
    {
      "cell_type": "markdown",
      "metadata": {
        "id": "AQWRscAjyiZ5"
      },
      "source": [
        "#Data analysis"
      ]
    },
    {
      "cell_type": "code",
      "metadata": {
        "id": "hCq2K5Z_QLv5"
      },
      "source": [
        "import pandas as pd"
      ],
      "execution_count": 3,
      "outputs": []
    },
    {
      "cell_type": "code",
      "metadata": {
        "id": "uqtmARD9QS_R",
        "colab": {
          "base_uri": "https://localhost:8080/"
        },
        "outputId": "6676f25c-a5d1-410a-d9e4-e741c8d54a16"
      },
      "source": [
        "data = pd.DataFrame(iris.data, columns=iris.feature_names)\n",
        "data.shape"
      ],
      "execution_count": 4,
      "outputs": [
        {
          "output_type": "execute_result",
          "data": {
            "text/plain": [
              "(150, 4)"
            ]
          },
          "metadata": {},
          "execution_count": 4
        }
      ]
    },
    {
      "cell_type": "markdown",
      "metadata": {
        "id": "i1-bXtLLywpi"
      },
      "source": [
        "Target attribute holds the labels (0,1,2), which is added to our dataframe as a new column 'class'."
      ]
    },
    {
      "cell_type": "code",
      "metadata": {
        "id": "uoDddCZWQZvL",
        "colab": {
          "base_uri": "https://localhost:8080/"
        },
        "outputId": "463159b8-97dd-419c-f9fd-e73fbc66a733"
      },
      "source": [
        "data['class'] = iris.target\n",
        "print(data['class'])"
      ],
      "execution_count": 5,
      "outputs": [
        {
          "output_type": "stream",
          "name": "stdout",
          "text": [
            "0      0\n",
            "1      0\n",
            "2      0\n",
            "3      0\n",
            "4      0\n",
            "      ..\n",
            "145    2\n",
            "146    2\n",
            "147    2\n",
            "148    2\n",
            "149    2\n",
            "Name: class, Length: 150, dtype: int64\n"
          ]
        }
      ]
    },
    {
      "cell_type": "code",
      "metadata": {
        "id": "o0rmnx3LQfUY",
        "colab": {
          "base_uri": "https://localhost:8080/",
          "height": 206
        },
        "outputId": "0269cfaf-c18e-411a-ca77-5941db322a0c"
      },
      "source": [
        "data.head()"
      ],
      "execution_count": 6,
      "outputs": [
        {
          "output_type": "execute_result",
          "data": {
            "text/html": [
              "<div>\n",
              "<style scoped>\n",
              "    .dataframe tbody tr th:only-of-type {\n",
              "        vertical-align: middle;\n",
              "    }\n",
              "\n",
              "    .dataframe tbody tr th {\n",
              "        vertical-align: top;\n",
              "    }\n",
              "\n",
              "    .dataframe thead th {\n",
              "        text-align: right;\n",
              "    }\n",
              "</style>\n",
              "<table border=\"1\" class=\"dataframe\">\n",
              "  <thead>\n",
              "    <tr style=\"text-align: right;\">\n",
              "      <th></th>\n",
              "      <th>sepal length (cm)</th>\n",
              "      <th>sepal width (cm)</th>\n",
              "      <th>petal length (cm)</th>\n",
              "      <th>petal width (cm)</th>\n",
              "      <th>class</th>\n",
              "    </tr>\n",
              "  </thead>\n",
              "  <tbody>\n",
              "    <tr>\n",
              "      <th>0</th>\n",
              "      <td>5.1</td>\n",
              "      <td>3.5</td>\n",
              "      <td>1.4</td>\n",
              "      <td>0.2</td>\n",
              "      <td>0</td>\n",
              "    </tr>\n",
              "    <tr>\n",
              "      <th>1</th>\n",
              "      <td>4.9</td>\n",
              "      <td>3.0</td>\n",
              "      <td>1.4</td>\n",
              "      <td>0.2</td>\n",
              "      <td>0</td>\n",
              "    </tr>\n",
              "    <tr>\n",
              "      <th>2</th>\n",
              "      <td>4.7</td>\n",
              "      <td>3.2</td>\n",
              "      <td>1.3</td>\n",
              "      <td>0.2</td>\n",
              "      <td>0</td>\n",
              "    </tr>\n",
              "    <tr>\n",
              "      <th>3</th>\n",
              "      <td>4.6</td>\n",
              "      <td>3.1</td>\n",
              "      <td>1.5</td>\n",
              "      <td>0.2</td>\n",
              "      <td>0</td>\n",
              "    </tr>\n",
              "    <tr>\n",
              "      <th>4</th>\n",
              "      <td>5.0</td>\n",
              "      <td>3.6</td>\n",
              "      <td>1.4</td>\n",
              "      <td>0.2</td>\n",
              "      <td>0</td>\n",
              "    </tr>\n",
              "  </tbody>\n",
              "</table>\n",
              "</div>"
            ],
            "text/plain": [
              "   sepal length (cm)  sepal width (cm)  ...  petal width (cm)  class\n",
              "0                5.1               3.5  ...               0.2      0\n",
              "1                4.9               3.0  ...               0.2      0\n",
              "2                4.7               3.2  ...               0.2      0\n",
              "3                4.6               3.1  ...               0.2      0\n",
              "4                5.0               3.6  ...               0.2      0\n",
              "\n",
              "[5 rows x 5 columns]"
            ]
          },
          "metadata": {},
          "execution_count": 6
        }
      ]
    },
    {
      "cell_type": "markdown",
      "metadata": {
        "id": "_u94wmXELqWi"
      },
      "source": [
        "Class 2 - setosa,  class 1 - versicolor, class 0 - virginica"
      ]
    },
    {
      "cell_type": "code",
      "metadata": {
        "id": "0bhbds5iQz7p",
        "colab": {
          "base_uri": "https://localhost:8080/"
        },
        "outputId": "89c21325-9892-4313-d096-3b52c3154f2c"
      },
      "source": [
        "print(iris.target_names)"
      ],
      "execution_count": 7,
      "outputs": [
        {
          "output_type": "stream",
          "name": "stdout",
          "text": [
            "['setosa' 'versicolor' 'virginica']\n"
          ]
        }
      ]
    },
    {
      "cell_type": "markdown",
      "metadata": {
        "id": "TQOa8tuKWmEx"
      },
      "source": [
        "# Train test split"
      ]
    },
    {
      "cell_type": "code",
      "metadata": {
        "id": "7OOt-sSaWnVZ"
      },
      "source": [
        "from sklearn.model_selection import train_test_split"
      ],
      "execution_count": 8,
      "outputs": []
    },
    {
      "cell_type": "markdown",
      "metadata": {
        "id": "as5o0R6RMGFH"
      },
      "source": [
        "X- features and Y-labels"
      ]
    },
    {
      "cell_type": "code",
      "metadata": {
        "id": "b4MW2HlzXLQe"
      },
      "source": [
        "X = data.drop('class', axis=1) # 1 for column, 0 for row\n",
        "Y = data['class']"
      ],
      "execution_count": 10,
      "outputs": []
    },
    {
      "cell_type": "code",
      "metadata": {
        "colab": {
          "base_uri": "https://localhost:8080/",
          "height": 423
        },
        "id": "ZKYLFbIzX8yH",
        "outputId": "09764893-c42e-4c06-cef1-2342c8f3a13c"
      },
      "source": [
        "X"
      ],
      "execution_count": 12,
      "outputs": [
        {
          "output_type": "execute_result",
          "data": {
            "text/html": [
              "<div>\n",
              "<style scoped>\n",
              "    .dataframe tbody tr th:only-of-type {\n",
              "        vertical-align: middle;\n",
              "    }\n",
              "\n",
              "    .dataframe tbody tr th {\n",
              "        vertical-align: top;\n",
              "    }\n",
              "\n",
              "    .dataframe thead th {\n",
              "        text-align: right;\n",
              "    }\n",
              "</style>\n",
              "<table border=\"1\" class=\"dataframe\">\n",
              "  <thead>\n",
              "    <tr style=\"text-align: right;\">\n",
              "      <th></th>\n",
              "      <th>sepal length (cm)</th>\n",
              "      <th>sepal width (cm)</th>\n",
              "      <th>petal length (cm)</th>\n",
              "      <th>petal width (cm)</th>\n",
              "    </tr>\n",
              "  </thead>\n",
              "  <tbody>\n",
              "    <tr>\n",
              "      <th>0</th>\n",
              "      <td>5.1</td>\n",
              "      <td>3.5</td>\n",
              "      <td>1.4</td>\n",
              "      <td>0.2</td>\n",
              "    </tr>\n",
              "    <tr>\n",
              "      <th>1</th>\n",
              "      <td>4.9</td>\n",
              "      <td>3.0</td>\n",
              "      <td>1.4</td>\n",
              "      <td>0.2</td>\n",
              "    </tr>\n",
              "    <tr>\n",
              "      <th>2</th>\n",
              "      <td>4.7</td>\n",
              "      <td>3.2</td>\n",
              "      <td>1.3</td>\n",
              "      <td>0.2</td>\n",
              "    </tr>\n",
              "    <tr>\n",
              "      <th>3</th>\n",
              "      <td>4.6</td>\n",
              "      <td>3.1</td>\n",
              "      <td>1.5</td>\n",
              "      <td>0.2</td>\n",
              "    </tr>\n",
              "    <tr>\n",
              "      <th>4</th>\n",
              "      <td>5.0</td>\n",
              "      <td>3.6</td>\n",
              "      <td>1.4</td>\n",
              "      <td>0.2</td>\n",
              "    </tr>\n",
              "    <tr>\n",
              "      <th>...</th>\n",
              "      <td>...</td>\n",
              "      <td>...</td>\n",
              "      <td>...</td>\n",
              "      <td>...</td>\n",
              "    </tr>\n",
              "    <tr>\n",
              "      <th>145</th>\n",
              "      <td>6.7</td>\n",
              "      <td>3.0</td>\n",
              "      <td>5.2</td>\n",
              "      <td>2.3</td>\n",
              "    </tr>\n",
              "    <tr>\n",
              "      <th>146</th>\n",
              "      <td>6.3</td>\n",
              "      <td>2.5</td>\n",
              "      <td>5.0</td>\n",
              "      <td>1.9</td>\n",
              "    </tr>\n",
              "    <tr>\n",
              "      <th>147</th>\n",
              "      <td>6.5</td>\n",
              "      <td>3.0</td>\n",
              "      <td>5.2</td>\n",
              "      <td>2.0</td>\n",
              "    </tr>\n",
              "    <tr>\n",
              "      <th>148</th>\n",
              "      <td>6.2</td>\n",
              "      <td>3.4</td>\n",
              "      <td>5.4</td>\n",
              "      <td>2.3</td>\n",
              "    </tr>\n",
              "    <tr>\n",
              "      <th>149</th>\n",
              "      <td>5.9</td>\n",
              "      <td>3.0</td>\n",
              "      <td>5.1</td>\n",
              "      <td>1.8</td>\n",
              "    </tr>\n",
              "  </tbody>\n",
              "</table>\n",
              "<p>150 rows × 4 columns</p>\n",
              "</div>"
            ],
            "text/plain": [
              "     sepal length (cm)  sepal width (cm)  petal length (cm)  petal width (cm)\n",
              "0                  5.1               3.5                1.4               0.2\n",
              "1                  4.9               3.0                1.4               0.2\n",
              "2                  4.7               3.2                1.3               0.2\n",
              "3                  4.6               3.1                1.5               0.2\n",
              "4                  5.0               3.6                1.4               0.2\n",
              "..                 ...               ...                ...               ...\n",
              "145                6.7               3.0                5.2               2.3\n",
              "146                6.3               2.5                5.0               1.9\n",
              "147                6.5               3.0                5.2               2.0\n",
              "148                6.2               3.4                5.4               2.3\n",
              "149                5.9               3.0                5.1               1.8\n",
              "\n",
              "[150 rows x 4 columns]"
            ]
          },
          "metadata": {},
          "execution_count": 12
        }
      ]
    },
    {
      "cell_type": "code",
      "metadata": {
        "colab": {
          "base_uri": "https://localhost:8080/"
        },
        "id": "2VsRcUNuYPSI",
        "outputId": "4ad4be8a-b62b-481e-8b89-e63a1e3da628"
      },
      "source": [
        "Y"
      ],
      "execution_count": 13,
      "outputs": [
        {
          "output_type": "execute_result",
          "data": {
            "text/plain": [
              "0      0\n",
              "1      0\n",
              "2      0\n",
              "3      0\n",
              "4      0\n",
              "      ..\n",
              "145    2\n",
              "146    2\n",
              "147    2\n",
              "148    2\n",
              "149    2\n",
              "Name: class, Length: 150, dtype: int64"
            ]
          },
          "metadata": {},
          "execution_count": 13
        }
      ]
    },
    {
      "cell_type": "code",
      "metadata": {
        "id": "9PlMHJiNv7N-"
      },
      "source": [
        "X_train, X_test, Y_train, Y_test = train_test_split(X, Y, test_size=0.1)"
      ],
      "execution_count": 14,
      "outputs": []
    },
    {
      "cell_type": "code",
      "metadata": {
        "id": "K3mRpxH2XfNC",
        "colab": {
          "base_uri": "https://localhost:8080/"
        },
        "outputId": "64363a82-69fd-4b9c-a6ae-75bfa2016377"
      },
      "source": [
        "print(X.shape, X_train.shape, X_test.shape)"
      ],
      "execution_count": 15,
      "outputs": [
        {
          "output_type": "stream",
          "name": "stdout",
          "text": [
            "(150, 4) (135, 4) (15, 4)\n"
          ]
        }
      ]
    },
    {
      "cell_type": "code",
      "metadata": {
        "id": "f4Obcq42XwSF",
        "colab": {
          "base_uri": "https://localhost:8080/"
        },
        "outputId": "b1eda42f-5246-4765-8b69-5ed1842c5373"
      },
      "source": [
        "print(Y.mean(), Y_train.mean(), Y_test.mean())"
      ],
      "execution_count": 19,
      "outputs": [
        {
          "output_type": "stream",
          "name": "stdout",
          "text": [
            "1.0 1.0 1.0\n"
          ]
        }
      ]
    },
    {
      "cell_type": "markdown",
      "metadata": {
        "id": "-D416IuvMPJB"
      },
      "source": [
        "Stratify on Y (labels) ensures the distribution of class 0, class 1 and class 2 data is equal in train and test test. Also, random_state is set to reproduce the results."
      ]
    },
    {
      "cell_type": "code",
      "metadata": {
        "id": "-2a4ILm0YWTe"
      },
      "source": [
        "X_train, X_test, Y_train, Y_test = train_test_split(X, Y, test_size=0.1, stratify = Y, random_state=1)"
      ],
      "execution_count": 20,
      "outputs": []
    },
    {
      "cell_type": "markdown",
      "metadata": {
        "id": "NZXZwKIFMixK"
      },
      "source": [
        "For further computations on the data we need it in numpy format. 'values' attribute of the Dataframe returns numpy arrays.\n",
        "\n"
      ]
    },
    {
      "cell_type": "code",
      "metadata": {
        "id": "zpMzDt5fwtcE"
      },
      "source": [
        "X_train = X_train.values\n",
        "X_test = X_test.values\n",
        "Y_train = Y_train.values\n",
        "Y_test = Y_test.values"
      ],
      "execution_count": 21,
      "outputs": []
    },
    {
      "cell_type": "markdown",
      "metadata": {
        "id": "Yy1a_A-Bud-4"
      },
      "source": [
        "#Feed Forward Network in Keras"
      ]
    },
    {
      "cell_type": "code",
      "metadata": {
        "id": "rA-btoC-jUdK"
      },
      "source": [
        "import keras\n",
        "from keras.models import Sequential\n",
        "from keras.layers import Dense\n",
        "from matplotlib import pyplot as plt\n"
      ],
      "execution_count": 22,
      "outputs": []
    },
    {
      "cell_type": "markdown",
      "metadata": {
        "id": "M74yqEnJPXuN"
      },
      "source": [
        "A simple sequential model is created with two hidden layers. Since it is a 3-class classification problem, the output layer has 3 neurons with a softmax activation."
      ]
    },
    {
      "cell_type": "code",
      "metadata": {
        "id": "Twx1VxqsNSzf"
      },
      "source": [
        "# create model\n",
        "model = Sequential()\n",
        "model.add(Dense(units = 16, kernel_initializer = 'random_uniform', activation='relu',  input_dim = 4))\n",
        "model.add(Dense(units = 8, kernel_initializer = 'random_uniform', activation='relu'))\n",
        "model.add(Dense(units = 3, kernel_initializer = 'random_uniform', activation = 'softmax'))"
      ],
      "execution_count": 23,
      "outputs": []
    },
    {
      "cell_type": "code",
      "metadata": {
        "id": "efZr0zSgTq-O",
        "colab": {
          "base_uri": "https://localhost:8080/"
        },
        "outputId": "e0af095e-d6ff-4092-f8d1-19f5aab6cc31"
      },
      "source": [
        "!pip install ann_visualizer\n",
        "!pip install graphviz\n",
        "from ann_visualizer.visualize import ann_viz"
      ],
      "execution_count": 24,
      "outputs": [
        {
          "output_type": "stream",
          "name": "stdout",
          "text": [
            "Collecting ann_visualizer\n",
            "  Downloading ann_visualizer-2.5.tar.gz (4.7 kB)\n",
            "Building wheels for collected packages: ann-visualizer\n",
            "  Building wheel for ann-visualizer (setup.py) ... \u001b[?25l\u001b[?25hdone\n",
            "  Created wheel for ann-visualizer: filename=ann_visualizer-2.5-py3-none-any.whl size=4168 sha256=4fec16c7207d566d9b12399d41ea64ddfd07b2dce03f5b3eae8ba001b6bfe343\n",
            "  Stored in directory: /root/.cache/pip/wheels/1b/fc/58/2ab1c3b30350105929308becddda4fb59b1358e54f985e1f4a\n",
            "Successfully built ann-visualizer\n",
            "Installing collected packages: ann-visualizer\n",
            "Successfully installed ann-visualizer-2.5\n",
            "Requirement already satisfied: graphviz in /usr/local/lib/python3.7/dist-packages (0.10.1)\n"
          ]
        }
      ]
    },
    {
      "cell_type": "code",
      "metadata": {
        "colab": {
          "base_uri": "https://localhost:8080/"
        },
        "id": "PJC8plYUZNvu",
        "outputId": "084d499d-ed9f-499f-ebb1-6bb8c98c3f3e"
      },
      "source": [
        "from google.colab import drive\n",
        "drive.mount('/content/drive')"
      ],
      "execution_count": 27,
      "outputs": [
        {
          "output_type": "stream",
          "name": "stdout",
          "text": [
            "Drive already mounted at /content/drive; to attempt to forcibly remount, call drive.mount(\"/content/drive\", force_remount=True).\n"
          ]
        }
      ]
    },
    {
      "cell_type": "code",
      "metadata": {
        "id": "glUcx3LdTvHm"
      },
      "source": [
        "ann_viz(model, filename=\"network.gv\",title=\"My neural  network\")"
      ],
      "execution_count": 28,
      "outputs": []
    },
    {
      "cell_type": "code",
      "metadata": {
        "id": "Xa5ib7dFNfBn"
      },
      "source": [
        "# Compile model\n",
        "model.compile(optimizer = 'adam', loss = 'categorical_crossentropy', metrics = ['accuracy'])"
      ],
      "execution_count": 31,
      "outputs": []
    },
    {
      "cell_type": "markdown",
      "metadata": {
        "id": "wKYdCl_jQANC"
      },
      "source": [
        "categorical_crossentropy or sparse_categorical_crossentropy is used as the loss for multi-class classification. If the former is used then Y_train should be in one-hot encoded form and for the latter, Y_train should be integers."
      ]
    },
    {
      "cell_type": "code",
      "metadata": {
        "id": "vey8OUbay_sB"
      },
      "source": [
        "from tensorflow.keras.utils import to_categorical\n",
        "Y_train = to_categorical(Y_train)\n",
        "Y_test = to_categorical(Y_test)"
      ],
      "execution_count": 33,
      "outputs": []
    },
    {
      "cell_type": "markdown",
      "metadata": {
        "id": "o7hYRZW2RWVh"
      },
      "source": [
        "One-hot encoded form:\n",
        "\n",
        "\n",
        "\n",
        "[1,0,0] --------> Class  0\n",
        "\n",
        "[0,1,0]---------> Class 1\n",
        "\n",
        "[0,0,1]---------> Class 2"
      ]
    },
    {
      "cell_type": "code",
      "metadata": {
        "id": "EPBl1hn7zGwu",
        "colab": {
          "base_uri": "https://localhost:8080/"
        },
        "outputId": "ff61ed10-7ff5-4bef-eb83-72dcc1ca88b9"
      },
      "source": [
        "print(Y_train)"
      ],
      "execution_count": 34,
      "outputs": [
        {
          "output_type": "stream",
          "name": "stdout",
          "text": [
            "[[0. 1. 0.]\n",
            " [0. 0. 1.]\n",
            " [0. 0. 1.]\n",
            " [0. 0. 1.]\n",
            " [1. 0. 0.]\n",
            " [1. 0. 0.]\n",
            " [0. 0. 1.]\n",
            " [0. 1. 0.]\n",
            " [0. 1. 0.]\n",
            " [0. 0. 1.]\n",
            " [0. 1. 0.]\n",
            " [0. 0. 1.]\n",
            " [1. 0. 0.]\n",
            " [0. 1. 0.]\n",
            " [1. 0. 0.]\n",
            " [0. 0. 1.]\n",
            " [1. 0. 0.]\n",
            " [1. 0. 0.]\n",
            " [0. 1. 0.]\n",
            " [0. 1. 0.]\n",
            " [0. 0. 1.]\n",
            " [0. 0. 1.]\n",
            " [0. 1. 0.]\n",
            " [1. 0. 0.]\n",
            " [1. 0. 0.]\n",
            " [0. 1. 0.]\n",
            " [0. 0. 1.]\n",
            " [1. 0. 0.]\n",
            " [0. 1. 0.]\n",
            " [0. 0. 1.]\n",
            " [1. 0. 0.]\n",
            " [1. 0. 0.]\n",
            " [0. 1. 0.]\n",
            " [1. 0. 0.]\n",
            " [0. 1. 0.]\n",
            " [0. 0. 1.]\n",
            " [0. 0. 1.]\n",
            " [1. 0. 0.]\n",
            " [0. 1. 0.]\n",
            " [1. 0. 0.]\n",
            " [0. 0. 1.]\n",
            " [1. 0. 0.]\n",
            " [0. 1. 0.]\n",
            " [0. 0. 1.]\n",
            " [1. 0. 0.]\n",
            " [1. 0. 0.]\n",
            " [0. 0. 1.]\n",
            " [0. 1. 0.]\n",
            " [0. 0. 1.]\n",
            " [1. 0. 0.]\n",
            " [0. 0. 1.]\n",
            " [0. 0. 1.]\n",
            " [1. 0. 0.]\n",
            " [1. 0. 0.]\n",
            " [0. 1. 0.]\n",
            " [1. 0. 0.]\n",
            " [0. 0. 1.]\n",
            " [0. 1. 0.]\n",
            " [0. 0. 1.]\n",
            " [0. 0. 1.]\n",
            " [0. 1. 0.]\n",
            " [0. 0. 1.]\n",
            " [0. 1. 0.]\n",
            " [0. 0. 1.]\n",
            " [1. 0. 0.]\n",
            " [0. 1. 0.]\n",
            " [1. 0. 0.]\n",
            " [0. 0. 1.]\n",
            " [0. 1. 0.]\n",
            " [1. 0. 0.]\n",
            " [0. 1. 0.]\n",
            " [0. 1. 0.]\n",
            " [1. 0. 0.]\n",
            " [1. 0. 0.]\n",
            " [0. 0. 1.]\n",
            " [1. 0. 0.]\n",
            " [0. 1. 0.]\n",
            " [0. 1. 0.]\n",
            " [1. 0. 0.]\n",
            " [1. 0. 0.]\n",
            " [0. 1. 0.]\n",
            " [0. 0. 1.]\n",
            " [0. 0. 1.]\n",
            " [0. 1. 0.]\n",
            " [0. 1. 0.]\n",
            " [1. 0. 0.]\n",
            " [1. 0. 0.]\n",
            " [0. 1. 0.]\n",
            " [0. 1. 0.]\n",
            " [0. 1. 0.]\n",
            " [0. 0. 1.]\n",
            " [0. 0. 1.]\n",
            " [0. 1. 0.]\n",
            " [0. 1. 0.]\n",
            " [0. 0. 1.]\n",
            " [0. 0. 1.]\n",
            " [1. 0. 0.]\n",
            " [0. 0. 1.]\n",
            " [1. 0. 0.]\n",
            " [0. 1. 0.]\n",
            " [0. 0. 1.]\n",
            " [0. 1. 0.]\n",
            " [0. 1. 0.]\n",
            " [1. 0. 0.]\n",
            " [1. 0. 0.]\n",
            " [0. 0. 1.]\n",
            " [0. 1. 0.]\n",
            " [0. 0. 1.]\n",
            " [0. 1. 0.]\n",
            " [1. 0. 0.]\n",
            " [1. 0. 0.]\n",
            " [0. 0. 1.]\n",
            " [1. 0. 0.]\n",
            " [1. 0. 0.]\n",
            " [0. 0. 1.]\n",
            " [1. 0. 0.]\n",
            " [0. 1. 0.]\n",
            " [0. 0. 1.]\n",
            " [0. 0. 1.]\n",
            " [1. 0. 0.]\n",
            " [0. 1. 0.]\n",
            " [0. 1. 0.]\n",
            " [0. 1. 0.]\n",
            " [0. 1. 0.]\n",
            " [0. 0. 1.]\n",
            " [1. 0. 0.]\n",
            " [0. 1. 0.]\n",
            " [0. 1. 0.]\n",
            " [0. 0. 1.]\n",
            " [0. 0. 1.]\n",
            " [1. 0. 0.]\n",
            " [0. 0. 1.]\n",
            " [1. 0. 0.]\n",
            " [0. 0. 1.]\n",
            " [1. 0. 0.]]\n"
          ]
        }
      ]
    },
    {
      "cell_type": "code",
      "metadata": {
        "id": "mkdJqoRtNTQY",
        "colab": {
          "base_uri": "https://localhost:8080/"
        },
        "outputId": "f7dfd8a1-7431-405d-a0b2-70fc5d28cf72"
      },
      "source": [
        "# Fit the model\n",
        "history =model.fit(X_train, Y_train, batch_size =32, epochs = 10,validation_split=0.20, verbose=1)"
      ],
      "execution_count": 35,
      "outputs": [
        {
          "output_type": "stream",
          "name": "stdout",
          "text": [
            "Epoch 1/10\n",
            "4/4 [==============================] - 2s 79ms/step - loss: 1.0986 - accuracy: 0.3148 - val_loss: 1.0984 - val_accuracy: 0.3333\n",
            "Epoch 2/10\n",
            "4/4 [==============================] - 0s 13ms/step - loss: 1.0983 - accuracy: 0.3333 - val_loss: 1.0982 - val_accuracy: 0.3333\n",
            "Epoch 3/10\n",
            "4/4 [==============================] - 0s 12ms/step - loss: 1.0982 - accuracy: 0.3333 - val_loss: 1.0979 - val_accuracy: 0.3333\n",
            "Epoch 4/10\n",
            "4/4 [==============================] - 0s 15ms/step - loss: 1.0979 - accuracy: 0.3333 - val_loss: 1.0976 - val_accuracy: 0.3333\n",
            "Epoch 5/10\n",
            "4/4 [==============================] - 0s 14ms/step - loss: 1.0976 - accuracy: 0.3333 - val_loss: 1.0972 - val_accuracy: 0.3333\n",
            "Epoch 6/10\n",
            "4/4 [==============================] - 0s 13ms/step - loss: 1.0971 - accuracy: 0.4907 - val_loss: 1.0966 - val_accuracy: 0.7037\n",
            "Epoch 7/10\n",
            "4/4 [==============================] - 0s 13ms/step - loss: 1.0965 - accuracy: 0.6574 - val_loss: 1.0958 - val_accuracy: 0.7037\n",
            "Epoch 8/10\n",
            "4/4 [==============================] - 0s 14ms/step - loss: 1.0958 - accuracy: 0.6574 - val_loss: 1.0947 - val_accuracy: 0.7037\n",
            "Epoch 9/10\n",
            "4/4 [==============================] - 0s 13ms/step - loss: 1.0947 - accuracy: 0.6574 - val_loss: 1.0933 - val_accuracy: 0.7037\n",
            "Epoch 10/10\n",
            "4/4 [==============================] - 0s 13ms/step - loss: 1.0934 - accuracy: 0.6574 - val_loss: 1.0915 - val_accuracy: 0.7037\n"
          ]
        }
      ]
    },
    {
      "cell_type": "code",
      "metadata": {
        "id": "b8MNgXMKNjO_",
        "colab": {
          "base_uri": "https://localhost:8080/"
        },
        "outputId": "8c191193-0af7-4371-8795-ce390eacd2af"
      },
      "source": [
        "# evaluate the model\n",
        "scores = model.evaluate(X_test, Y_test)\n",
        "print(\"\\n%s: %.2f%%\" % (model.metrics_names[1], scores[1]*100))"
      ],
      "execution_count": 36,
      "outputs": [
        {
          "output_type": "stream",
          "name": "stdout",
          "text": [
            "1/1 [==============================] - 0s 24ms/step - loss: 1.0925 - accuracy: 0.6667\n",
            "\n",
            "accuracy: 66.67%\n"
          ]
        }
      ]
    },
    {
      "cell_type": "markdown",
      "metadata": {
        "id": "poskdQRxSxio"
      },
      "source": [
        "The filt() returns History object. Its History.history attribute is a record of training loss values and metrics values at successive epochs, as well as validation loss values and validation metrics values (if applicable)."
      ]
    },
    {
      "cell_type": "code",
      "metadata": {
        "colab": {
          "base_uri": "https://localhost:8080/"
        },
        "id": "IqEkFgbNbaqR",
        "outputId": "35ff3a37-4d77-4fd2-8802-2598d082eea7"
      },
      "source": [
        "history.history"
      ],
      "execution_count": 39,
      "outputs": [
        {
          "output_type": "execute_result",
          "data": {
            "text/plain": [
              "{'accuracy': [0.31481480598449707,\n",
              "  0.3333333432674408,\n",
              "  0.3333333432674408,\n",
              "  0.3333333432674408,\n",
              "  0.3333333432674408,\n",
              "  0.49074074625968933,\n",
              "  0.6574074029922485,\n",
              "  0.6574074029922485,\n",
              "  0.6574074029922485,\n",
              "  0.6574074029922485],\n",
              " 'loss': [1.0985764265060425,\n",
              "  1.098339557647705,\n",
              "  1.0981770753860474,\n",
              "  1.097890019416809,\n",
              "  1.0975723266601562,\n",
              "  1.0971499681472778,\n",
              "  1.0965158939361572,\n",
              "  1.0957980155944824,\n",
              "  1.0947448015213013,\n",
              "  1.0933854579925537],\n",
              " 'val_accuracy': [0.3333333432674408,\n",
              "  0.3333333432674408,\n",
              "  0.3333333432674408,\n",
              "  0.3333333432674408,\n",
              "  0.3333333432674408,\n",
              "  0.7037037014961243,\n",
              "  0.7037037014961243,\n",
              "  0.7037037014961243,\n",
              "  0.7037037014961243,\n",
              "  0.7037037014961243],\n",
              " 'val_loss': [1.0983809232711792,\n",
              "  1.0981874465942383,\n",
              "  1.0979071855545044,\n",
              "  1.0976290702819824,\n",
              "  1.097229242324829,\n",
              "  1.0966169834136963,\n",
              "  1.0958083868026733,\n",
              "  1.0946717262268066,\n",
              "  1.09328293800354,\n",
              "  1.0914583206176758]}"
            ]
          },
          "metadata": {},
          "execution_count": 39
        }
      ]
    },
    {
      "cell_type": "code",
      "metadata": {
        "id": "IkIAyBOnVdHP",
        "colab": {
          "base_uri": "https://localhost:8080/",
          "height": 893
        },
        "outputId": "72868851-4978-4e91-c2bf-5116e4d8014c"
      },
      "source": [
        "f, axs = plt.subplots(2,2,figsize=(15,15))\n",
        "# Plot training & validation accuracy values\n",
        "plt.subplot(2, 2, 1)\n",
        "plt.plot(history.history['accuracy'])\n",
        "plt.title('Model accuracy')\n",
        "plt.ylabel('Training Accuracy')\n",
        "plt.xlabel('Epoch')\n",
        "plt.legend(['Train'], loc='upper left')\n",
        "\n",
        "\n",
        "plt.subplot(2, 2, 2)\n",
        "plt.plot(history.history['val_accuracy'])\n",
        "plt.title('Model accuracy')\n",
        "plt.ylabel('Validation Accuracy')\n",
        "plt.xlabel('Epoch')\n",
        "plt.legend(['Test'], loc='upper left')\n",
        "\n",
        "\n",
        "# Plot training & validation loss values\n",
        "plt.subplot(2, 2, 3)\n",
        "plt.plot(history.history['loss'])\n",
        "plt.title('Model loss')\n",
        "plt.ylabel('Training Loss')\n",
        "plt.xlabel('Epoch')\n",
        "plt.legend(['Train'], loc='upper left')\n",
        "\n",
        "\n",
        "plt.subplot(2, 2, 4)\n",
        "plt.plot(history.history['val_loss'])\n",
        "plt.title('Model loss')\n",
        "plt.ylabel('Validation Loss')\n",
        "plt.xlabel('Epoch')\n",
        "plt.legend([ 'Test'], loc='upper left')\n",
        "plt.subplots_adjust(hspace = .3 ,wspace =.3)\n",
        "plt.show()"
      ],
      "execution_count": 40,
      "outputs": [
        {
          "output_type": "display_data",
          "data": {
            "image/png": "[encoded data removed]",
            "text/plain": [
              "<Figure size 1080x1080 with 4 Axes>"
            ]
          },
          "metadata": {
            "needs_background": "light"
          }
        }
      ]
    },
    {
      "cell_type": "code",
      "metadata": {
        "id": "t-14yw5d4ihD"
      },
      "source": [
        "model.save('my_model.h5')  # creates a HDF5 file 'my_model.h5'\n",
        "model.save_weights(\"model_weights.h5\")"
      ],
      "execution_count": 41,
      "outputs": []
    },
    {
      "cell_type": "code",
      "metadata": {
        "id": "HE0u80W6sR5q"
      },
      "source": [
        "from keras.models import load_model\n",
        "model_saved = load_model('my_model.h5')"
      ],
      "execution_count": 42,
      "outputs": []
    },
    {
      "cell_type": "code",
      "metadata": {
        "id": "ejl9aDSjsmFx",
        "colab": {
          "base_uri": "https://localhost:8080/"
        },
        "outputId": "95c655f9-c216-4451-f0eb-4bcd99382c5c"
      },
      "source": [
        "# evaluate the model\n",
        "scores = model_saved.evaluate(X_test, Y_test)\n",
        "print(\"\\n%s: %.2f%%\" % (model_saved.metrics_names[1], scores[1]*100))"
      ],
      "execution_count": 43,
      "outputs": [
        {
          "output_type": "stream",
          "name": "stdout",
          "text": [
            "1/1 [==============================] - 0s 155ms/step - loss: 1.0925 - accuracy: 0.6667\n",
            "\n",
            "accuracy: 66.67%\n"
          ]
        }
      ]
    },
    {
      "cell_type": "markdown",
      "metadata": {
        "id": "T6Y3k0oRFazT"
      },
      "source": [
        "Generates output predictions for the input samples."
      ]
    },
    {
      "cell_type": "code",
      "metadata": {
        "id": "Cy7dllotb9W2"
      },
      "source": [
        "predictions = model.predict(X_test)"
      ],
      "execution_count": 46,
      "outputs": []
    },
    {
      "cell_type": "code",
      "metadata": {
        "colab": {
          "base_uri": "https://localhost:8080/"
        },
        "id": "_a2zDEi4cQoi",
        "outputId": "e8669fb9-535a-43ea-e544-b9a61f72dd80"
      },
      "source": [
        "predictions"
      ],
      "execution_count": 47,
      "outputs": [
        {
          "output_type": "execute_result",
          "data": {
            "text/plain": [
              "array([[0.33095157, 0.3333576 , 0.3356908 ],\n",
              "       [0.33385113, 0.33254513, 0.3336038 ],\n",
              "       [0.33086866, 0.33333695, 0.33579436],\n",
              "       [0.33818448, 0.3313048 , 0.33051074],\n",
              "       [0.3321509 , 0.3330441 , 0.33480492],\n",
              "       [0.33718058, 0.3315959 , 0.33122355],\n",
              "       [0.33741477, 0.33151376, 0.33107147],\n",
              "       [0.33086875, 0.3333369 , 0.3357943 ],\n",
              "       [0.33218527, 0.33304238, 0.33477238],\n",
              "       [0.33089703, 0.3333406 , 0.33576232],\n",
              "       [0.33762902, 0.33147067, 0.3309003 ],\n",
              "       [0.33299652, 0.33280173, 0.33420175],\n",
              "       [0.33325207, 0.33273184, 0.33401608],\n",
              "       [0.33091453, 0.33334842, 0.33573702],\n",
              "       [0.337631  , 0.3314671 , 0.33090192]], dtype=float32)"
            ]
          },
          "metadata": {},
          "execution_count": 47
        }
      ]
    },
    {
      "cell_type": "code",
      "metadata": {
        "id": "2kWXKuHvctFW"
      },
      "source": [
        "predictions=np.argmax(model.predict(X_test), axis=-1)"
      ],
      "execution_count": 51,
      "outputs": []
    },
    {
      "cell_type": "code",
      "metadata": {
        "colab": {
          "base_uri": "https://localhost:8080/"
        },
        "id": "PRPaRQ-kcz14",
        "outputId": "3010ae05-3fea-4f8c-c4b4-ce7375d8db26"
      },
      "source": [
        "predictions"
      ],
      "execution_count": 52,
      "outputs": [
        {
          "output_type": "execute_result",
          "data": {
            "text/plain": [
              "array([2, 0, 2, 0, 2, 0, 0, 2, 2, 2, 0, 2, 2, 2, 0])"
            ]
          },
          "metadata": {},
          "execution_count": 52
        }
      ]
    }
  ]
}