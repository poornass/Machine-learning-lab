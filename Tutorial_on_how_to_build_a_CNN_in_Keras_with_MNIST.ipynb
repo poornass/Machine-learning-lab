{
  "nbformat": 4,
  "nbformat_minor": 0,
  "metadata": {
    "colab": {
      "name": "Tutorial on how to build a CNN in Keras with MNIST.ipynb",
      "provenance": [],
      "collapsed_sections": [],
      "include_colab_link": true
    },
    "kernelspec": {
      "name": "python3",
      "display_name": "Python 3"
    },
    "accelerator": "GPU"
  },
  "cells": [
    {
      "cell_type": "markdown",
      "metadata": {
        "id": "view-in-github",
        "colab_type": "text"
      },
      "source": [
        "<a href=\"https://colab.research.google.com/github/poornass/Machine-learning-lab/blob/main/Tutorial_on_how_to_build_a_CNN_in_Keras_with_MNIST.ipynb\" target=\"_parent\"><img src=\"https://colab.research.google.com/assets/colab-badge.svg\" alt=\"Open In Colab\"/></a>"
      ]
    },
    {
      "cell_type": "markdown",
      "metadata": {
        "id": "F77krulH_AeO"
      },
      "source": [
        "#Step-by-step tutorial on how to build a convolutional neural network (CNN) in Keras"
      ]
    },
    {
      "cell_type": "markdown",
      "metadata": {
        "id": "fKLAA88rgJAX"
      },
      "source": [
        "We will be using MNIST dataset for training the model. It has 70,000 grayscale images of hand-written digits and each such image is of 28x28 resolution. More details on the dataset are available on http://yann.lecun.com/exdb/mnist/"
      ]
    },
    {
      "cell_type": "markdown",
      "metadata": {
        "id": "bhOYJQVq9KKK"
      },
      "source": [
        "Let's start by importing essential libraries and modules"
      ]
    },
    {
      "cell_type": "code",
      "metadata": {
        "id": "PYLO2t109PLv"
      },
      "source": [
        "import numpy as np\n",
        "from keras.models import Sequential\t\n",
        "from keras.layers import Dense, Dropout, Activation, Flatten     # core layers\n",
        "from keras.layers import Convolution2D, MaxPooling2D             # cnn layers\n",
        "from keras.utils import np_utils                                 # to transform our data"
      ],
      "execution_count": 1,
      "outputs": []
    },
    {
      "cell_type": "markdown",
      "metadata": {
        "id": "XVbsylgDAXbg"
      },
      "source": [
        "Now we'll load image data from MNIST"
      ]
    },
    {
      "cell_type": "code",
      "metadata": {
        "id": "KOfbPgtSBMyR",
        "outputId": "800a9cf2-26b5-4f7e-d49a-d940e2e1fbd7",
        "colab": {
          "base_uri": "https://localhost:8080/"
        }
      },
      "source": [
        "from keras.datasets import mnist\n",
        " \n",
        "(X_train, y_train), (X_test, y_test) = mnist.load_data()         # Load MNIST data into train and test sets"
      ],
      "execution_count": 2,
      "outputs": [
        {
          "output_type": "stream",
          "name": "stdout",
          "text": [
            "Downloading data from https://storage.googleapis.com/tensorflow/tf-keras-datasets/mnist.npz\n",
            "11493376/11490434 [==============================] - 0s 0us/step\n",
            "11501568/11490434 [==============================] - 0s 0us/step\n"
          ]
        }
      ]
    },
    {
      "cell_type": "markdown",
      "metadata": {
        "id": "c2XugC8MB-WL"
      },
      "source": [
        "We can look at the shape of the dataset"
      ]
    },
    {
      "cell_type": "code",
      "metadata": {
        "id": "tVy-QeS-CBgF",
        "outputId": "2a36977f-e475-4e85-b9f9-933e328a8866",
        "colab": {
          "base_uri": "https://localhost:8080/"
        }
      },
      "source": [
        "print(X_train.shape)"
      ],
      "execution_count": 3,
      "outputs": [
        {
          "output_type": "stream",
          "name": "stdout",
          "text": [
            "(60000, 28, 28)\n"
          ]
        }
      ]
    },
    {
      "cell_type": "markdown",
      "metadata": {
        "id": "II1TzvLbC8QL"
      },
      "source": [
        "Let us plot a sample image and see how it looks (dimension of each image is 28X28 and we have 60000 images)\n",
        "\n",
        "Now try plotting the secind image in the dataset"
      ]
    },
    {
      "cell_type": "code",
      "metadata": {
        "id": "h2mwqfoqCX7q",
        "outputId": "d450499a-d679-464d-80ac-24d142538fb3",
        "colab": {
          "base_uri": "https://localhost:8080/",
          "height": 282
        }
      },
      "source": [
        "from matplotlib import pyplot as plt\n",
        "plt.imshow(X_train[1],cmap='Greys')                                           # first image from training data"
      ],
      "execution_count": 5,
      "outputs": [
        {
          "output_type": "execute_result",
          "data": {
            "text/plain": [
              "<matplotlib.image.AxesImage at 0x7fdea001c7d0>"
            ]
          },
          "metadata": {},
          "execution_count": 5
        },
        {
          "output_type": "display_data",
          "data": {
            "image/png": "[encoded data removed]",
            "text/plain": [
              "<Figure size 432x288 with 1 Axes>"
            ]
          },
          "metadata": {
            "needs_background": "light"
          }
        }
      ]
    },
    {
      "cell_type": "code",
      "source": [
        "print(X_train.shape)"
      ],
      "metadata": {
        "colab": {
          "base_uri": "https://localhost:8080/"
        },
        "id": "rf8P_DYk-aC5",
        "outputId": "3a36a527-7225-4043-d14f-707fc06164b7"
      },
      "execution_count": 8,
      "outputs": [
        {
          "output_type": "stream",
          "name": "stdout",
          "text": [
            "(60000, 28, 28)\n"
          ]
        }
      ]
    },
    {
      "cell_type": "markdown",
      "metadata": {
        "id": "FkrwPvj6DTz_"
      },
      "source": [
        "Now we will preprocess/reshape input data for Keras. In other words, we will transform our dataset from having shape (n, width, height) to (n, width, height, depth)."
      ]
    },
    {
      "cell_type": "code",
      "metadata": {
        "id": "lXegdaLhCqZd"
      },
      "source": [
        "X_train = X_train.reshape(X_train.shape[0], 28, 28, 1)\n",
        "X_test = X_test.reshape(X_test.shape[0], 28, 28, 1)"
      ],
      "execution_count": 9,
      "outputs": []
    },
    {
      "cell_type": "markdown",
      "metadata": {
        "id": "3DiUUrbdELS3"
      },
      "source": [
        "Just for a confirmation, let us see the shape once more"
      ]
    },
    {
      "cell_type": "code",
      "metadata": {
        "id": "WHXlf9naEnh-",
        "outputId": "d521a353-ad19-4829-fbf1-712fb0814b75",
        "colab": {
          "base_uri": "https://localhost:8080/"
        }
      },
      "source": [
        "print(X_train.shape)"
      ],
      "execution_count": 10,
      "outputs": [
        {
          "output_type": "stream",
          "name": "stdout",
          "text": [
            "(60000, 28, 28, 1)\n"
          ]
        }
      ]
    },
    {
      "cell_type": "markdown",
      "metadata": {
        "id": "rQryJQa2EzrC"
      },
      "source": [
        "Done!!! Next, we will convert our data type to float32 and normalize our data values to the range (0, 1)."
      ]
    },
    {
      "cell_type": "code",
      "metadata": {
        "id": "y8zHqF3BFMan"
      },
      "source": [
        "X_train = X_train.astype('float32')\n",
        "X_test = X_test.astype('float32')\n",
        "X_train /= 255\n",
        "X_test /= 255"
      ],
      "execution_count": 11,
      "outputs": []
    },
    {
      "cell_type": "markdown",
      "metadata": {
        "id": "rHXEaAexGoZ_"
      },
      "source": [
        "We should have 10 different classes, one for each digit, but it looks like we only have a 1-dimensional array. Let's take a look at the labels for the first 10 training samples..."
      ]
    },
    {
      "cell_type": "code",
      "metadata": {
        "id": "x5JjCAfwOIVf",
        "outputId": "8f7b28df-1c3c-4739-e7ef-5303172f0d99",
        "colab": {
          "base_uri": "https://localhost:8080/"
        }
      },
      "source": [
        "print(y_train[:10])"
      ],
      "execution_count": 12,
      "outputs": [
        {
          "output_type": "stream",
          "name": "stdout",
          "text": [
            "[5 0 4 1 9 2 1 3 1 4]\n"
          ]
        }
      ]
    },
    {
      "cell_type": "markdown",
      "metadata": {
        "id": "JqA_M0EOS_r1"
      },
      "source": [
        "See... Here y_train and y_test data are not split into 10 distinct class labels, but rather are represented as a single array with the class values. So we need to convert 1-dimensional class arrays to 10-dimensional class matrices"
      ]
    },
    {
      "cell_type": "code",
      "metadata": {
        "id": "9bqckuxnOZAW"
      },
      "source": [
        "Y_train = np_utils.to_categorical(y_train, 10)\n",
        "Y_test = np_utils.to_categorical(y_test, 10)"
      ],
      "execution_count": 13,
      "outputs": []
    },
    {
      "cell_type": "markdown",
      "metadata": {
        "id": "zBGaWnAuTq-U"
      },
      "source": [
        "Now we can take another look:"
      ]
    },
    {
      "cell_type": "code",
      "metadata": {
        "id": "i2-Y98z8OZHW",
        "outputId": "e8d6966e-03b2-4624-afcf-6e06d94b7c28",
        "colab": {
          "base_uri": "https://localhost:8080/"
        }
      },
      "source": [
        "print(Y_train.shape)"
      ],
      "execution_count": 14,
      "outputs": [
        {
          "output_type": "stream",
          "name": "stdout",
          "text": [
            "(60000, 10)\n"
          ]
        }
      ]
    },
    {
      "cell_type": "markdown",
      "metadata": {
        "id": "YwoXkXAMT0W0"
      },
      "source": [
        "Now it's time for defining our model architecture"
      ]
    },
    {
      "cell_type": "code",
      "metadata": {
        "id": "t5OsJDknUJf1"
      },
      "source": [
        "model = Sequential()\t##model building\n",
        "model.add(Convolution2D(32, 3, 3, activation='relu', input_shape=(28,28,1))) #32 convolution filters used each of size 3x3\n",
        "model.add(Convolution2D(64, 3, 3, activation='relu'))#64 convolution filters used each of size 3x3\n",
        "model.add(MaxPooling2D(pool_size=(2,2)))#choose the best features via pooling\n",
        "model.add(Dropout(0.25))#randomly turn neurons on and off to improve convergence\n",
        "model.add(Flatten())#flatten since too many dimensions, we only want a classification output\n",
        "model.add(Dense(128, activation='relu'))#fully connected to get all relevant data\n",
        "model.add(Dropout(0.5))#one more dropout for convergence' sake :) \n",
        "model.add(Dense(10, activation='softmax'))"
      ],
      "execution_count": 20,
      "outputs": []
    },
    {
      "cell_type": "markdown",
      "metadata": {
        "id": "nQ3g7k9jXG0V"
      },
      "source": [
        "We just need to compile the model and we'll be ready to train it."
      ]
    },
    {
      "cell_type": "code",
      "metadata": {
        "id": "FixcxCJHXQSD"
      },
      "source": [
        "model.compile(loss='categorical_crossentropy',\n",
        "              optimizer='adam',\n",
        "              metrics=['accuracy'])"
      ],
      "execution_count": 21,
      "outputs": []
    },
    {
      "cell_type": "markdown",
      "metadata": {
        "id": "mBAGJb-2a5bu"
      },
      "source": [
        "\n",
        "To fit the model on training set, the batch size and number of epochs should be declared mandatorily. The other parameters like validation_split, validation_data etc. takes some default values, which could be overidden if required."
      ]
    },
    {
      "cell_type": "code",
      "metadata": {
        "id": "caABPq64a97r",
        "outputId": "507843cd-1ac0-42c4-aa56-525d07b88111",
        "colab": {
          "base_uri": "https://localhost:8080/"
        }
      },
      "source": [
        "model.fit(X_train, Y_train, \n",
        "          batch_size=32, epochs=10, verbose=1)"
      ],
      "execution_count": 22,
      "outputs": [
        {
          "output_type": "stream",
          "name": "stdout",
          "text": [
            "Epoch 1/10\n",
            "1875/1875 [==============================] - 17s 5ms/step - loss: 2.1210 - accuracy: 0.2064\n",
            "Epoch 2/10\n",
            "1875/1875 [==============================] - 9s 5ms/step - loss: 1.5011 - accuracy: 0.4753\n",
            "Epoch 3/10\n",
            "1875/1875 [==============================] - 8s 4ms/step - loss: 1.3073 - accuracy: 0.5522\n",
            "Epoch 4/10\n",
            "1875/1875 [==============================] - 8s 5ms/step - loss: 1.2019 - accuracy: 0.5971\n",
            "Epoch 5/10\n",
            "1875/1875 [==============================] - 8s 5ms/step - loss: 1.1458 - accuracy: 0.6168\n",
            "Epoch 6/10\n",
            "1875/1875 [==============================] - 10s 5ms/step - loss: 1.1084 - accuracy: 0.6306\n",
            "Epoch 7/10\n",
            "1875/1875 [==============================] - 9s 5ms/step - loss: 1.0744 - accuracy: 0.6449\n",
            "Epoch 8/10\n",
            "1875/1875 [==============================] - 9s 5ms/step - loss: 1.0450 - accuracy: 0.6568\n",
            "Epoch 9/10\n",
            "1875/1875 [==============================] - 8s 4ms/step - loss: 1.0214 - accuracy: 0.6666\n",
            "Epoch 10/10\n",
            "1875/1875 [==============================] - 8s 4ms/step - loss: 1.0140 - accuracy: 0.6705\n"
          ]
        },
        {
          "output_type": "execute_result",
          "data": {
            "text/plain": [
              "<keras.callbacks.History at 0x7fde9020ef90>"
            ]
          },
          "metadata": {},
          "execution_count": 22
        }
      ]
    },
    {
      "cell_type": "markdown",
      "metadata": {
        "id": "U3NS5I_1XdZj"
      },
      "source": [
        "Finally, we can evaluate our model on the test data"
      ]
    },
    {
      "cell_type": "code",
      "metadata": {
        "id": "RsjJUrRVbL87",
        "outputId": "c172ff45-36c4-46b5-ac20-3ecde992ee4f",
        "colab": {
          "base_uri": "https://localhost:8080/"
        }
      },
      "source": [
        "score = model.evaluate(X_test, Y_test, verbose=0)\n",
        "print('Test accuracy: ',score[1])"
      ],
      "execution_count": 23,
      "outputs": [
        {
          "output_type": "stream",
          "name": "stdout",
          "text": [
            "Test accuracy:  0.7846999764442444\n"
          ]
        }
      ]
    }
  ]
}